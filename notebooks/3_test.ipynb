{
 "cells": [
  {
   "cell_type": "code",
   "execution_count": 1,
   "id": "3b958fb3",
   "metadata": {},
   "outputs": [
    {
     "name": "stdout",
     "output_type": "stream",
     "text": [
      "X shape: (1213, 19909)\n",
      "y shape: (1213, 2)\n",
      "y örnek:    adhd_outcome  sex_f\n",
      "0             1      0\n",
      "1             1      1\n",
      "2             1      1\n",
      "3             1      1\n",
      "4             1      1\n"
     ]
    }
   ],
   "source": [
    "import sys\n",
    "import os\n",
    "# Proje ana klasörünü ekle (src ile aynı seviyedeki klasör)\n",
    "project_root = os.path.abspath(os.path.join(os.getcwd(), \"..\"))\n",
    "if project_root not in sys.path:\n",
    "    sys.path.append(project_root)\n",
    "from src.data_pipeline import load_data, prepare_dataset\n",
    "\n",
    "connectome_df, categorical_df, labels_df = load_data()\n",
    "X, y = prepare_dataset(connectome_df, categorical_df, labels_df)\n",
    "\n",
    "print(\"X shape:\", X.shape)\n",
    "print(\"y shape:\", y.shape)\n",
    "print(\"y örnek:\", y.head())\n"
   ]
  }
 ],
 "metadata": {
  "kernelspec": {
   "display_name": "Python 3",
   "language": "python",
   "name": "python3"
  },
  "language_info": {
   "codemirror_mode": {
    "name": "ipython",
    "version": 3
   },
   "file_extension": ".py",
   "mimetype": "text/x-python",
   "name": "python",
   "nbconvert_exporter": "python",
   "pygments_lexer": "ipython3",
   "version": "3.11.7"
  }
 },
 "nbformat": 4,
 "nbformat_minor": 5
}
